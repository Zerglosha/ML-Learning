{
 "cells": [
  {
   "cell_type": "code",
   "execution_count": 2,
   "metadata": {},
   "outputs": [
    {
     "name": "stdout",
     "output_type": "stream",
     "text": [
      "0.010469526728196501\n"
     ]
    }
   ],
   "source": [
    "import numpy as np\n",
    "\n",
    "np.random.seed(0) # псевдослучайные числа образуют одну и ту же последовательность (при каждом запуске)\n",
    "x = np.arange(-1.0, 1.0, 0.1) # аргумент [-1; 1] с шагом 0,1\n",
    "\n",
    "size_train = len(x)  # размер выборки\n",
    "w = [0.5, -0.3]  # коэффициенты модели\n",
    "model_a = lambda m_x, m_w: (m_w[1] * m_x + m_w[0])  # модель\n",
    "loss = lambda ax, y: (ax - y) ** 2 # квадратическая функция потерь\n",
    "\n",
    "y = model_a(x, w) + np.random.normal(0, 0.1, len(x)) # целевые значения\n",
    "# здесь продолжайте программу\n",
    "a = model_a(x, w)\n",
    "Q = 1 / size_train * sum(map(loss, a, y))"
   ]
  },
  {
   "cell_type": "code",
   "execution_count": 6,
   "metadata": {},
   "outputs": [],
   "source": [
    "import numpy as np\n",
    "\n",
    "np.random.seed(0) # псевдослучайные числа образуют одну и ту же последовательность (при каждом запуске)\n",
    "x = np.arange(-1.0, 1.0, 0.1) # аргумент [-1; 1] с шагом 0,1\n",
    "\n",
    "\n",
    "model_a = lambda xx, ww: (ww[0] + ww[1] * xx) # модель\n",
    "Y = -5.2 + 0.7 * x + np.random.normal(0, 0.1, len(x)) # вектор целевых значений\n",
    "\n",
    "# здесь продолжайте программу\n",
    "X = np.array([[1, xi] for xi in x])\n",
    "w = np.linalg.inv(X.T @ X) @ X.T @ Y"
   ]
  },
  {
   "cell_type": "code",
   "execution_count": 10,
   "metadata": {},
   "outputs": [
    {
     "name": "stdout",
     "output_type": "stream",
     "text": [
      "[np.int64(-1), np.int64(1), np.int64(1), np.int64(1), np.int64(1), np.int64(1), np.int64(1)]\n"
     ]
    }
   ],
   "source": [
    "import numpy as np\n",
    "\n",
    "x_test = [(5, -3), (-3, 8), (3, 6), (0, 0), (5, 3), (-3, -1), (-3, 3)]\n",
    "\n",
    "w = np.array([33, -9, 13])\n",
    "X = np.array([[1, *x] for x in x_test])\n",
    "predict = list(map(lambda x: np.sign(w.T@x), X))\n",
    "print(predict)"
   ]
  },
  {
   "cell_type": "code",
   "execution_count": 11,
   "metadata": {},
   "outputs": [],
   "source": [
    "import numpy as np\n",
    "\n",
    "x_test = [(9, 6), (2, 4), (-3, -1), (3, -2), (-3, 6), (7, -3), (6, 2)]\n",
    "\n",
    "# здесь продолжайте программу\n",
    "w = np.array([14, -7, 5])\n",
    "X = np.array([[1, *x] for x in x_test])\n",
    "predict = list(map(lambda x: np.sign(w.T@x), X))"
   ]
  },
  {
   "cell_type": "code",
   "execution_count": 15,
   "metadata": {},
   "outputs": [
    {
     "name": "stdout",
     "output_type": "stream",
     "text": [
      "[np.float64(16.42857142857143), np.float64(2.7142857142857144), np.float64(11.0), np.float64(8.571428571428573)]\n"
     ]
    }
   ],
   "source": [
    "import numpy as np\n",
    "\n",
    "w = np.array([15/7, -9/7, -1])\n",
    "x_test = np.array([[1, -8, -4],[1, -2, 2],[1, 4, 8],[1, 6, 3]]) # задайте самостоятельно (признаки образов: x0, x1, x2)\n",
    "y_test = np.array([1.0, 1.0, -1.0, -1.0]) # задайте самостоятельно (метки класса)\n",
    "\n",
    "# здесь продолжайте программу\n",
    "margin = list(map(lambda x, y: w.T @ x * y, x_test, y_test))\n",
    "print(margin)"
   ]
  },
  {
   "cell_type": "code",
   "execution_count": 16,
   "metadata": {},
   "outputs": [
    {
     "name": "stdout",
     "output_type": "stream",
     "text": [
      "[np.int64(22), np.int64(54), np.int64(-10), np.int64(55), np.int64(-18), np.int64(34)]\n"
     ]
    }
   ],
   "source": [
    "import numpy as np\n",
    "\n",
    "w = np.array([-16, -4, 9]) # задайте самостоятельно (параметры модели: w0, w1, w2 - ориентация разделяющей линии)\n",
    "x_test = np.array([[1, -5, 2], [1, -4, 6], [1, 3, 2], [1, 3, -3], [1, 5, 6], [1, 9, 2]]) # задайте самостоятельно (признаки образов: x0, x1, x2)\n",
    "y_test = np.array([1, 1, 1, -1, -1, -1]) # задайте самостоятельно (метки класса)\n",
    "\n",
    "# здесь продолжайте программу\n",
    "margin = list(map(lambda x, y: w.T @ x * y, x_test, y_test))\n",
    "print(margin)"
   ]
  },
  {
   "cell_type": "code",
   "execution_count": 19,
   "metadata": {},
   "outputs": [
    {
     "name": "stdout",
     "output_type": "stream",
     "text": [
      "2\n"
     ]
    }
   ],
   "source": [
    "import numpy as np\n",
    "\n",
    "x_test = np.array([(-5, 2), (-4, 6), (3, 2), (3, -3), (5, 5), (5, 2), (-1, 3)])\n",
    "y_test = np.array([1, 1, 1, -1, -1, -1, -1])\n",
    "w = np.array([-8/3, -2/3, 1])\n",
    "\n",
    "# здесь продолжайте программу\n",
    "X = np.array([[1, *x] for x in x_test])\n",
    "margin = list(map(lambda x, y: w.T @ x * y, X, y_test))\n",
    "Q = sum(map(lambda x: x < 0, margin))\n",
    "print(Q)"
   ]
  },
  {
   "cell_type": "code",
   "execution_count": 19,
   "metadata": {},
   "outputs": [],
   "source": [
    "import numpy as np\n",
    "\n",
    "\n",
    "def func(x):\n",
    "    return 0.1 * x**2 - np.sin(x) + 0.1 * np.cos(x * 5) + 1.\n",
    "\n",
    "def ai(x):\n",
    "    return w[0] + w[1] * x + w[2] * x ** 2 + w[3] * x ** 3 + w[4] * x ** 4\n",
    "# здесь объявляйте дополнительные функции (если необходимо)\n",
    "\n",
    "\n",
    "coord_x = np.arange(-5.0, 5.0, 0.1) # значения отсчетов по оси абсцисс\n",
    "coord_y = func(coord_x) # значения функции по оси ординат\n",
    "\n",
    "sz = len(coord_x) # общее число отсчетов\n",
    "\n",
    "# здесь продолжайте программу\n",
    "w = np.array([1.11, -0.26, 0.061, 0.0226, 0.00178])\n",
    "a = ai(coord_x)\n",
    "L = (a - coord_y) ** 2\n",
    "Q = sum(L) / sz"
   ]
  },
  {
   "cell_type": "code",
   "execution_count": 20,
   "metadata": {},
   "outputs": [],
   "source": [
    "import numpy as np\n",
    "\n",
    "\n",
    "def func(x):\n",
    "    return 0.5 * x**2 - 0.1 * 1/np.exp(-x) + 0.5 * np.cos(2*x) - 2.\n",
    "\n",
    "def ai(x):\n",
    "    return w[0] + w[1] * x + w[2] * x ** 2 + w[3] * np.cos(2 * x) + w[4] * np.sin(2 * x)\n",
    "# здесь объявляйте дополнительные функции (если необходимо)\n",
    "\n",
    "\n",
    "coord_x = np.arange(-5.0, 5.0, 0.1) # значения отсчетов по оси абсцисс\n",
    "coord_y = func(coord_x) # значения функции по оси ординат\n",
    "\n",
    "sz = len(coord_x) # общее число отсчетов\n",
    "\n",
    "# здесь продолжайте программу\n",
    "w = np.array([-1.59, -0.69, 0.278, 0.497, -0.106])\n",
    "a = ai(coord_x)\n",
    "L = np.abs(a - coord_y)\n",
    "Q = sum(L) / sz"
   ]
  },
  {
   "cell_type": "code",
   "execution_count": 34,
   "metadata": {},
   "outputs": [
    {
     "name": "stdout",
     "output_type": "stream",
     "text": [
      "[-3.31307062  0.00617453  1.95370269]\n"
     ]
    }
   ],
   "source": [
    "import numpy as np\n",
    "\n",
    "data_x = [(5.8, 1.2), (5.6, 1.5), (6.5, 1.5), (6.1, 1.3), (6.4, 1.3), (7.7, 2.0), (6.0, 1.8), (5.6, 1.3), (6.0, 1.6), (5.8, 1.9), (5.7, 2.0), (6.3, 1.5), (6.2, 1.8), (7.7, 2.3), (5.8, 1.2), (6.3, 1.8), (6.0, 1.0), (6.2, 1.3), (5.7, 1.3), (6.3, 1.9), (6.7, 2.5), (5.5, 1.2), (4.9, 1.0), (6.1, 1.4), (6.0, 1.6), (7.2, 2.5), (7.3, 1.8), (6.6, 1.4), (5.6, 2.0), (5.5, 1.0), (6.4, 2.2), (5.6, 1.3), (6.6, 1.3), (6.9, 2.1), (6.8, 2.1), (5.7, 1.3), (7.0, 1.4), (6.1, 1.4), (6.1, 1.8), (6.7, 1.7), (6.0, 1.5), (6.5, 1.8), (6.4, 1.5), (6.9, 1.5), (5.6, 1.3), (6.7, 1.4), (5.8, 1.9), (6.3, 1.3), (6.7, 2.1), (6.2, 2.3), (6.3, 2.4), (6.7, 1.8), (6.4, 2.3), (6.2, 1.5), (6.1, 1.4), (7.1, 2.1), (5.7, 1.0), (6.8, 1.4), (6.8, 2.3), (5.1, 1.1), (4.9, 1.7), (5.9, 1.8), (7.4, 1.9), (6.5, 2.0), (6.7, 1.5), (6.5, 2.0), (5.8, 1.0), (6.4, 2.1), (7.6, 2.1), (5.8, 2.4), (7.7, 2.2), (6.3, 1.5), (5.0, 1.0), (6.3, 1.6), (7.7, 2.3), (6.4, 1.9), (6.5, 2.2), (5.7, 1.2), (6.9, 2.3), (5.7, 1.3), (6.1, 1.2), (5.4, 1.5), (5.2, 1.4), (6.7, 2.3), (7.9, 2.0), (5.6, 1.1), (7.2, 1.8), (5.5, 1.3), (7.2, 1.6), (6.3, 2.5), (6.3, 1.8), (6.7, 2.4), (5.0, 1.0), (6.4, 1.8), (6.9, 2.3), (5.5, 1.3), (5.5, 1.1), (5.9, 1.5), (6.0, 1.5), (5.9, 1.8)]\n",
    "data_y = [-1, -1, -1, -1, -1, 1, 1, -1, -1, 1, 1, -1, 1, 1, -1, 1, -1, -1, -1, 1, 1, -1, -1, -1, -1, 1, 1, -1, 1, -1, 1, -1, -1, 1, 1, -1, -1, 1, 1, -1, 1, 1, -1, -1, -1, -1, 1, -1, 1, 1, 1, 1, 1, -1, -1, 1, -1, -1, 1, -1, 1, -1, 1, 1, -1, 1, -1, 1, 1, 1, 1, 1, -1, -1, 1, 1, 1, -1, 1, -1, -1, -1, -1, 1, 1, -1, 1, -1, 1, 1, 1, 1, -1, 1, 1, -1, -1, -1, -1, 1]\n",
    "\n",
    "# здесь продолжайте программу\n",
    "X = np.array([[1, *x] for x in data_x])\n",
    "w =  np.sum([x * y for x, y in zip(X, data_y)], axis=0) @ np.linalg.inv(np.sum([np.outer(x, x) for x in X], axis=0))\n",
    "print(w)"
   ]
  },
  {
   "cell_type": "code",
   "execution_count": 2,
   "metadata": {},
   "outputs": [],
   "source": [
    "import numpy as np\n",
    "\n",
    "\n",
    "def func(x):\n",
    "    return 0.5 * x + 0.2 * x ** 2 - 0.1 * x ** 3\n",
    "\n",
    "\n",
    "def df(x):\n",
    "    return 0.5 + 0.4 * x - 0.3 * x ** 2# здесь выражение производной функции f(x)\n",
    "\n",
    "\n",
    "coord_x = np.arange(-5.0, 5.0, 0.1) # значения по оси абсцисс\n",
    "coord_y = func(coord_x) # значения по оси ординат (значения функции)\n",
    "\n",
    "# здесь продолжайте программу\n",
    "step = 0.01\n",
    "x_start = -4\n",
    "n = 200\n",
    "\n",
    "for iteration in range(n):\n",
    "    x_start = x_start - step * df(x_start)"
   ]
  },
  {
   "cell_type": "code",
   "execution_count": 81,
   "metadata": {},
   "outputs": [
    {
     "name": "stdout",
     "output_type": "stream",
     "text": [
      "[ 4.98645739 -0.41780964  0.10273088  0.0317247 ]\n",
      "0.130614639360737\n"
     ]
    }
   ],
   "source": [
    "import numpy as np\n",
    "\n",
    "# исходная функция, которую нужно аппроксимировать моделью a(x)\n",
    "def func(x):\n",
    "    return 0.1 * x**2 - np.sin(x) + 5.\n",
    "\n",
    "\n",
    "# здесь объявляйте необходимые функции\n",
    "def ai(x):\n",
    "    return w[0] + w[1] * x + w[2] * x ** 2 + w[3] * x**3 \n",
    "\n",
    "# def si(x):\n",
    "#     return np.array([1, x, x**2, x**3])\n",
    "\n",
    "def dq(w):\n",
    "    return 2/sz * np.sum([(xi @ w - func(xi[1])) * xi.T for xi in X], axis=0)\n",
    "\n",
    "def error():\n",
    "    return 1/sz * np.sum([(ai(xi[1]) - func(xi[1])) ** 2 for xi in X], axis=0)\n",
    "\n",
    "coord_x = np.arange(-5.0, 5.0, 0.1) # значения по оси абсцисс [-5; 5] с шагом 0.1\n",
    "coord_y = func(coord_x) # значения функции по оси ординат\n",
    "\n",
    "sz = len(coord_x)\t# количество значений функций (точек)\n",
    "eta = np.array([0.1, 0.01, 0.001, 0.0001]) # шаг обучения для каждого параметра w0, w1, w2, w3\n",
    "w = np.array([0., 0., 0., 0.]) # начальные значения параметров модели\n",
    "N = 200 # число итераций градиентного алгоритма\n",
    "\n",
    "X = np.array([[1, x, x**2, x**3] for x in coord_x])\n",
    "\n",
    "# здесь продолжайте программу\n",
    "for iteration in range(N):\n",
    "    w -= eta * dq(w)\n",
    "\n",
    "Q = error()"
   ]
  },
  {
   "cell_type": "code",
   "execution_count": 16,
   "metadata": {},
   "outputs": [
    {
     "name": "stdout",
     "output_type": "stream",
     "text": [
      "1.4879780398107583\n"
     ]
    }
   ],
   "source": [
    "import numpy as np\n",
    "\n",
    "# исходная функция, которую нужно аппроксимировать моделью a(x)\n",
    "def func(x):\n",
    "    return 0.5 * x**2 - 0.1 * 1/np.exp(-x) + 0.5 * np.cos(2*x) - 2.\n",
    "\n",
    "\n",
    "# здесь объявляйте необходимые функции\n",
    "def error():\n",
    "    return 1/sz * np.sum([(w.T @ xi - func(xi[1]))**2 for xi in X])\n",
    "\n",
    "def local_error(w, x):\n",
    "    return (w.T @ x - func(x[1])) ** 2\n",
    "\n",
    "def dq(w, x):\n",
    "    return 2 * (w.T @ x - func(x[1])) * x.T\n",
    "\n",
    "\n",
    "coord_x = np.arange(-5.0, 5.0, 0.1) # значения по оси абсцисс [-5; 5] с шагом 0.1\n",
    "coord_y = func(coord_x) # значения функции по оси ординат\n",
    "\n",
    "sz = len(coord_x)\t# количество значений функций (точек)\n",
    "eta = np.array([0.01, 0.001, 0.0001, 0.01, 0.01]) # шаг обучения для каждого параметра w0, w1, w2, w3, w4\n",
    "w = np.array([0., 0., 0., 0., 0.]) # начальные значения параметров модели\n",
    "N = 500 # число итераций алгоритма SGD\n",
    "lm = 0.02 # значение параметра лямбда для вычисления скользящего экспоненциального среднего\n",
    "X = np.array([[1, x, x**2, np.cos(2*x), np.sin(2*x)] for x in coord_x])\n",
    "\n",
    "Qe = error() # начальное значение среднего эмпирического риска\n",
    "np.random.seed(0) # генерация одинаковых последовательностей псевдослучайных чисел\n",
    "\n",
    "for _ in range(N):\n",
    "    k = np.random.randint(0, sz-1) # sz - размер выборки (массива coord_x)\n",
    "    xk = X[k]\n",
    "    eps = local_error(w, xk)\n",
    "    w -= eta * dq(w, xk)\n",
    "    Qe = lm * eps + (1 - lm) * Qe\n",
    "\n",
    "\n",
    "Q = 1/sz * np.sum([local_error(w, xi) for xi in X])\n",
    "\n"
   ]
  },
  {
   "cell_type": "code",
   "execution_count": 47,
   "metadata": {},
   "outputs": [
    {
     "name": "stdout",
     "output_type": "stream",
     "text": [
      "[-2.49725214  0.49451654  0.19757031 -0.04967255]\n"
     ]
    },
    {
     "name": "stderr",
     "output_type": "stream",
     "text": [
      "/var/folders/2g/cp3kytp95yv8n1csw8g09vdw0000gn/T/ipykernel_50114/131444440.py:41: DeprecationWarning: Calling np.sum(generator) is deprecated, and in the future will give a different result. Use np.sum(np.fromiter(generator)) or the python sum builtin instead.\n",
      "  eps = 1/batch_size * np.sum(local_error_per_one(w, X[i]) for i in range(k, k+batch_size))\n",
      "/var/folders/2g/cp3kytp95yv8n1csw8g09vdw0000gn/T/ipykernel_50114/131444440.py:42: DeprecationWarning: Calling np.sum(generator) is deprecated, and in the future will give a different result. Use np.sum(np.fromiter(generator)) or the python sum builtin instead.\n",
      "  grad = 1/batch_size * np.sum(dq_per_one(w, X[i]) for i in range(k, k+batch_size))\n"
     ]
    }
   ],
   "source": [
    "import numpy as np\n",
    "\n",
    "# исходная функция, которую нужно аппроксимировать моделью a(x)\n",
    "def func(x):\n",
    "    return 0.5 * x + 0.2 * x ** 2 - 0.05 * x ** 3 + 0.2 * np.sin(4 * x) - 2.5\n",
    "\n",
    "\n",
    "# здесь объявляйте необходимые функции\n",
    "def error(w, X):\n",
    "    return 1/sz * np.sum([(w.T @ xi - func(xi[1]))**2 for xi in X])\n",
    "\n",
    "def dq(w, k):\n",
    "    return 2/batch_size * np.sum([(w.T @ xi - func(xi[1])) * xi.T for xi in X[k:k+batch_size]])\n",
    "\n",
    "def local_error(w, k):\n",
    "    return 1/batch_size * np.sum([(w.T @ xi - func(xi[1]))**2 for xi in X[k:k+batch_size]])\n",
    "\n",
    "def local_error_per_one(w, x):\n",
    "    return (w.T @ x - func(x[1])) ** 2\n",
    "\n",
    "def dq_per_one(w, x):\n",
    "    return 2 * (w.T @ x - func(x[1])) * x.T\n",
    "\n",
    "coord_x = np.arange(-4.0, 6.0, 0.1) # значения по оси абсцисс [-5; 5] с шагом 0.1\n",
    "coord_y = func(coord_x) # значения функции по оси ординат\n",
    "\n",
    "sz = len(coord_x)\t# количество значений функций (точек)\n",
    "eta = np.array([0.1, 0.01, 0.001, 0.0001]) # шаг обучения для каждого параметра w0, w1, w2, w3\n",
    "w = np.array([0., 0., 0., 0.]) # начальные значения параметров модели\n",
    "N = 500 # число итераций алгоритма SGD\n",
    "lm = 0.02 # значение параметра лямбда для вычисления скользящего экспоненциального среднего\n",
    "batch_size = 50 # размер мини-батча (величина K = 50)\n",
    "X = np.array([[1, x, x**2, x**3] for x in coord_x])\n",
    "\n",
    "Qe = error(w, X)# начальное значение среднего эмпирического риска\n",
    "np.random.seed(0) # генерация одинаковых последовательностей псевдослучайных чисел\n",
    "\n",
    "for _ in range(N):\n",
    "    k = np.random.randint(0, sz-batch_size) # sz - размер выборки (массива coord_x)\n",
    "    #print(X[k:k+batch_size])\n",
    "    eps = 1/batch_size * np.sum(local_error_per_one(w, X[i]) for i in range(k, k+batch_size))\n",
    "    grad = 1/batch_size * np.sum(dq_per_one(w, X[i]) for i in range(k, k+batch_size))\n",
    "    w -= eta * grad\n",
    "    Qe = lm * eps + (1 - lm) * Qe\n",
    "\n",
    "#print(w)\n",
    "Q = error(w, X)\n",
    "\n"
   ]
  }
 ],
 "metadata": {
  "kernelspec": {
   "display_name": "Python 3",
   "language": "python",
   "name": "python3"
  },
  "language_info": {
   "codemirror_mode": {
    "name": "ipython",
    "version": 3
   },
   "file_extension": ".py",
   "mimetype": "text/x-python",
   "name": "python",
   "nbconvert_exporter": "python",
   "pygments_lexer": "ipython3",
   "version": "3.12.4"
  }
 },
 "nbformat": 4,
 "nbformat_minor": 2
}
