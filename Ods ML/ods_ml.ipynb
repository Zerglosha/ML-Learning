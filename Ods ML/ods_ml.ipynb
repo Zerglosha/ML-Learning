{
 "cells": [
  {
   "cell_type": "markdown",
   "metadata": {},
   "source": [
    "Написать код, который вычисляет сумму всех чисел, удовлетворяющих следующие условия:\n",
    "\n",
    "положительные целые числа от 1 до 1_000_000_002 (один миллиард два) включительно\n",
    "которые нацело (без остатка) делятся на 3 (пример: 3, 6, 9, ...)\n",
    "и которые не заканчиваются на 4 и 7 (пример заканчивающихся на 4 и 7: 24, 27, 54, 57 ...)\n",
    "Результат суммы ввести в поле ниже.\n",
    "В поле нужно ввести только число, являющееся ответом, без пробелов и других символов."
   ]
  },
  {
   "cell_type": "code",
   "execution_count": 1,
   "metadata": {},
   "outputs": [
    {
     "name": "stdout",
     "output_type": "stream",
     "text": [
      "133333334466666672\n"
     ]
    }
   ],
   "source": [
    "total = 0\n",
    "for i in range(0, 1000000003, 3):\n",
    "    if i % 10 != 4 and i % 10 != 7:\n",
    "        total += i\n",
    "\n",
    "print(total)"
   ]
  },
  {
   "cell_type": "code",
   "execution_count": 16,
   "metadata": {},
   "outputs": [],
   "source": [
    "def plus(x, y):\n",
    "    return x + y\n",
    "def minus(x, y):\n",
    "    return x - y\n",
    "def multiply(x, y):\n",
    "    return x * y\n",
    "def division(x, y):\n",
    "    return x // y\n",
    "def mod(x, y):\n",
    "    return x % y\n",
    "def power(x, y):\n",
    "    return x ** y\n",
    "\n",
    "operations = {'+': plus, '-': minus, '*': multiply, '//': division, '%': mod, '**': power}\n",
    "result = []\n",
    "with open('input_file.txt', 'r') as f:\n",
    "    for line in f.readlines():\n",
    "        oper = line.split('    ')[0]\n",
    "        num1 = int(line.split('    ')[1])\n",
    "        num2 = int(line.split('    ')[2])\n",
    "        result.append(operations[oper](num1, num2))\n",
    "\n",
    "with open('output.txt', 'w') as f:\n",
    "    for elem in result:\n",
    "        if elem != result[-1]:\n",
    "            f.write(str(elem) + ',')\n",
    "        else:\n",
    "            f.write(str(elem))"
   ]
  },
  {
   "cell_type": "code",
   "execution_count": 24,
   "metadata": {},
   "outputs": [],
   "source": [
    "with open('import_file_2_1.txt', 'r') as f:\n",
    "    lines = f.readlines()\n",
    "\n",
    "result = []\n",
    "with open('import_file_2_2.txt', 'r') as f:\n",
    "    i = 0\n",
    "    for line in f.readlines():\n",
    "        num1, num2 = map(int, line.split())\n",
    "        result.append(lines[i].replace('\\n', '')[num1:num2+1])\n",
    "        i += 1\n",
    "\n",
    "with open('output.txt', 'w') as f:\n",
    "    for elem in result:\n",
    "        f.write(elem + ' ')\n"
   ]
  },
  {
   "cell_type": "code",
   "execution_count": 31,
   "metadata": {},
   "outputs": [],
   "source": [
    "import json\n",
    "\n",
    "periodic_table = json.load(open('periodic_table.json'))\n",
    "\n",
    "with open('import_file_3.txt', 'r') as f:\n",
    "    line = f.readline()\n",
    "    result = []\n",
    "    i = 0\n",
    "    while i < len(line):\n",
    "        if line[i].isupper():\n",
    "            result.append(elem)\n",
    "            elem = line[i]\n",
    "            i += 1\n",
    "        else:\n",
    "            elem += line[i]\n",
    "            i += 1\n",
    "\n",
    "result = result[1:]\n",
    "with open('output.txt', 'w') as f:\n",
    "    for elem in result:\n",
    "        f.write(periodic_table[elem])\n"
   ]
  }
 ],
 "metadata": {
  "kernelspec": {
   "display_name": "Python 3",
   "language": "python",
   "name": "python3"
  },
  "language_info": {
   "codemirror_mode": {
    "name": "ipython",
    "version": 3
   },
   "file_extension": ".py",
   "mimetype": "text/x-python",
   "name": "python",
   "nbconvert_exporter": "python",
   "pygments_lexer": "ipython3",
   "version": "3.12.4"
  }
 },
 "nbformat": 4,
 "nbformat_minor": 2
}
