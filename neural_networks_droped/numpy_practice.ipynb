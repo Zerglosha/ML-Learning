{
 "cells": [
  {
   "cell_type": "code",
   "execution_count": 10,
   "metadata": {},
   "outputs": [
    {
     "name": "stdout",
     "output_type": "stream",
     "text": [
      "[[928]\n",
      " [286]\n",
      " [942]\n",
      " [ 71]\n",
      " [689]\n",
      " [736]\n",
      " [999]\n",
      " [506]\n",
      " [731]\n",
      " [990]\n",
      " [516]\n",
      " [584]]\n"
     ]
    }
   ],
   "source": [
    "import numpy as np\n",
    "\n",
    "import random\n",
    "w = np.array(random.sample(range(1000), 12)) # одномерный массив из 12 случайных чисел от 1 до 1000\n",
    "w = w.reshape((2,2,3)) # превратим w в трёхмерную матрицу\n",
    "# print(w)\n",
    "\n",
    "# print(w.transpose(0,2,1))\n",
    "\n",
    "mat = w\n",
    "\n",
    "print(mat.reshape(12, 1))"
   ]
  },
  {
   "cell_type": "code",
   "execution_count": 21,
   "metadata": {},
   "outputs": [
    {
     "name": "stdout",
     "output_type": "stream",
     "text": [
      "[-2.34210526  0.19473684]\n"
     ]
    }
   ],
   "source": [
    "import numpy as np\n",
    "\n",
    "X = np.ones((3, 2))\n",
    "X[..., 1] = [60, 50, 75]\n",
    "Y = [10, 7, 12]\n",
    "\n",
    "step1 = X.T.dot(X)\n",
    "step2 = np.linalg.inv(step1)\n",
    "step3 = step2.dot(X.T)\n",
    "b = step3.dot(Y)\n",
    "\n",
    "print(b)"
   ]
  },
  {
   "cell_type": "code",
   "execution_count": null,
   "metadata": {},
   "outputs": [],
   "source": []
  }
 ],
 "metadata": {
  "kernelspec": {
   "display_name": "Python 3",
   "language": "python",
   "name": "python3"
  },
  "language_info": {
   "codemirror_mode": {
    "name": "ipython",
    "version": 3
   },
   "file_extension": ".py",
   "mimetype": "text/x-python",
   "name": "python",
   "nbconvert_exporter": "python",
   "pygments_lexer": "ipython3",
   "version": "3.12.4"
  }
 },
 "nbformat": 4,
 "nbformat_minor": 2
}
